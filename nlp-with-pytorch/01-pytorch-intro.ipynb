{
 "cells": [
  {
   "cell_type": "code",
   "execution_count": 19,
   "metadata": {},
   "outputs": [],
   "source": [
    "import torch\n",
    "import numpy as np"
   ]
  },
  {
   "cell_type": "code",
   "execution_count": 3,
   "metadata": {},
   "outputs": [],
   "source": [
    "def describe(x):\n",
    "  print(f\"Type: {type(x)}\")\n",
    "  print(f\"Shape: {x.shape}\")\n",
    "  print(f\"Values: {x}\")"
   ]
  },
  {
   "cell_type": "code",
   "execution_count": 4,
   "metadata": {},
   "outputs": [
    {
     "name": "stdout",
     "output_type": "stream",
     "text": [
      "Type: <class 'torch.Tensor'>\n",
      "Shape: torch.Size([2, 3])\n",
      "Values: tensor([[0.0000e+00, 3.6893e+19, 0.0000e+00],\n",
      "        [3.6893e+19, 3.5032e-44, 0.0000e+00]])\n"
     ]
    }
   ],
   "source": [
    "x = torch.Tensor(2, 3)\n",
    "describe(x)"
   ]
  },
  {
   "cell_type": "code",
   "execution_count": 7,
   "metadata": {},
   "outputs": [
    {
     "name": "stdout",
     "output_type": "stream",
     "text": [
      "Type: <class 'torch.Tensor'>\n",
      "Shape: torch.Size([2, 10])\n",
      "Values: tensor([[0.5706, 0.0451, 0.2723, 0.0277, 0.0746, 0.3107, 0.2363, 0.5000, 0.5788,\n",
      "         0.3575],\n",
      "        [0.5772, 0.5741, 0.0676, 0.4101, 0.6189, 0.8512, 0.7212, 0.5977, 0.9278,\n",
      "         0.6591]])\n",
      "Type: <class 'torch.Tensor'>\n",
      "Shape: torch.Size([2, 10])\n",
      "Values: tensor([[-0.6553, -0.8711, -0.5627,  0.2065,  0.2665,  0.4075, -1.1461,  1.2605,\n",
      "          1.8970, -1.0819],\n",
      "        [-0.1524, -1.7382,  0.5776, -0.7032,  1.1580, -0.6931,  0.5757, -0.9185,\n",
      "         -0.2969, -2.1647]])\n"
     ]
    }
   ],
   "source": [
    "describe(torch.rand(2, 10))\n",
    "describe(torch.randn(2, 10))"
   ]
  },
  {
   "cell_type": "code",
   "execution_count": 9,
   "metadata": {},
   "outputs": [
    {
     "name": "stdout",
     "output_type": "stream",
     "text": [
      "Type: <class 'torch.Tensor'>\n",
      "Shape: torch.Size([2, 3])\n",
      "Values: tensor([[0., 0., 0.],\n",
      "        [0., 0., 0.]])\n",
      "Type: <class 'torch.Tensor'>\n",
      "Shape: torch.Size([2, 3])\n",
      "Values: tensor([[1., 1., 1.],\n",
      "        [1., 1., 1.]])\n"
     ]
    },
    {
     "data": {
      "text/plain": [
       "tensor([[5., 5., 5.],\n",
       "        [5., 5., 5.]])"
      ]
     },
     "execution_count": 9,
     "metadata": {},
     "output_type": "execute_result"
    }
   ],
   "source": [
    "describe(torch.zeros(2, 3))\n",
    "describe(torch.ones(2, 3))\n",
    "a = torch.ones(2, 3)\n",
    "a.fill_(5)"
   ]
  },
  {
   "cell_type": "code",
   "execution_count": 18,
   "metadata": {},
   "outputs": [
    {
     "name": "stdout",
     "output_type": "stream",
     "text": [
      "tensor([[1, 2, 3],\n",
      "        [4, 5, 6]])\n",
      "<class 'torch.Tensor'>\n",
      "<class 'torch.Tensor'>\n"
     ]
    }
   ],
   "source": [
    "b = torch.tensor([[1, 2, 3], [4, 5, 6]]) # there's a difference between using .Tensor -> will make FloatTensor and .tensor!\n",
    "print(b)\n",
    "print(type(b))\n",
    "print(type(torch.FloatTensor([[1, 2, 3], [4, 5, 6]]))) # apparently both are still of type TorchTensor"
   ]
  },
  {
   "attachments": {},
   "cell_type": "markdown",
   "metadata": {},
   "source": [
    "Values from PyTorch tensors can come from lists or NumPy arrays"
   ]
  },
  {
   "cell_type": "code",
   "execution_count": 32,
   "metadata": {},
   "outputs": [
    {
     "name": "stdout",
     "output_type": "stream",
     "text": [
      "Type: <class 'torch.Tensor'>\n",
      "Shape: torch.Size([2, 3])\n",
      "Values: tensor([[1, 2, 3],\n",
      "        [4, 5, 6]])\n",
      "Type: <class 'torch.Tensor'>\n",
      "Shape: torch.Size([2, 3])\n",
      "Values: tensor([[1., 2., 3.],\n",
      "        [4., 5., 6.]])\n",
      "Type: <class 'torch.Tensor'>\n",
      "Shape: torch.Size([2, 3])\n",
      "Values: tensor([[1, 2, 3],\n",
      "        [4, 5, 6]])\n",
      "Type: <class 'torch.Tensor'>\n",
      "Shape: torch.Size([6])\n",
      "Values: tensor([0, 1, 2, 3, 4, 5])\n"
     ]
    }
   ],
   "source": [
    "c = torch.tensor(np.array([[1, 2, 3], [4,5, 6]]))\n",
    "describe(c)\n",
    "\n",
    "c = c.float()\n",
    "describe(c)\n",
    "\n",
    "c = c.long()\n",
    "describe(c) # okay so even LongTensors are under Tensor now\n",
    "\n",
    "d = torch.arange(6)\n",
    "describe(d)"
   ]
  },
  {
   "cell_type": "code",
   "execution_count": 42,
   "metadata": {},
   "outputs": [
    {
     "name": "stdout",
     "output_type": "stream",
     "text": [
      "Type: <class 'torch.Tensor'>\n",
      "Shape: torch.Size([2, 3])\n",
      "Values: tensor([[0, 1, 2],\n",
      "        [3, 4, 5]])\n",
      "Type: <class 'torch.Tensor'>\n",
      "Shape: torch.Size([1, 3])\n",
      "Values: tensor([[0, 1, 2]])\n"
     ]
    }
   ],
   "source": [
    "x = torch.arange(6).view(2, 3)\n",
    "describe(x)\n",
    "\n",
    "describe(x[:1, :3]) # the first one captures the rows that will be included, second one are the columns"
   ]
  },
  {
   "cell_type": "code",
   "execution_count": 48,
   "metadata": {},
   "outputs": [
    {
     "name": "stdout",
     "output_type": "stream",
     "text": [
      "Type: <class 'torch.Tensor'>\n",
      "Shape: torch.Size([2, 2])\n",
      "Values: tensor([[0, 2],\n",
      "        [3, 5]])\n"
     ]
    }
   ],
   "source": [
    "indices = torch.LongTensor([0, 2]) # there's a difference between using .Tensor and .tensor here apparently\n",
    "describe(torch.index_select(x, dim = 1, index = indices))"
   ]
  },
  {
   "cell_type": "code",
   "execution_count": 52,
   "metadata": {},
   "outputs": [
    {
     "data": {
      "text/plain": [
       "tensor([[0, 1, 2],\n",
       "        [3, 4, 5],\n",
       "        [0, 1, 2],\n",
       "        [3, 4, 5]])"
      ]
     },
     "metadata": {},
     "output_type": "display_data"
    },
    {
     "data": {
      "text/plain": [
       "tensor([[0, 1, 2, 0, 1, 2],\n",
       "        [3, 4, 5, 3, 4, 5]])"
      ]
     },
     "metadata": {},
     "output_type": "display_data"
    }
   ],
   "source": [
    "display(torch.cat([x, x], dim = 0))\n",
    "display(torch.cat([x, x], dim = 1))"
   ]
  },
  {
   "cell_type": "code",
   "execution_count": 54,
   "metadata": {},
   "outputs": [
    {
     "name": "stdout",
     "output_type": "stream",
     "text": [
      "Type: <class 'torch.Tensor'>\n",
      "Shape: torch.Size([2, 3])\n",
      "Values: tensor([[0., 1., 2.],\n",
      "        [3., 4., 5.]])\n",
      "Type: <class 'torch.Tensor'>\n",
      "Shape: torch.Size([3, 2])\n",
      "Values: tensor([[1., 2.],\n",
      "        [1., 2.],\n",
      "        [1., 2.]])\n",
      "Type: <class 'torch.Tensor'>\n",
      "Shape: torch.Size([2, 2])\n",
      "Values: tensor([[ 3.,  6.],\n",
      "        [12., 24.]])\n"
     ]
    }
   ],
   "source": [
    "x1 = torch.arange(6).view(2, 3).float() # so arange doesn't return FloatTensors now, interesting\n",
    "describe(x1)\n",
    "\n",
    "x2 = torch.ones(3, 2)\n",
    "x2[:, 1] += 1\n",
    "describe(x2)\n",
    "\n",
    "describe(torch.mm(x1, x2))"
   ]
  },
  {
   "cell_type": "code",
   "execution_count": 60,
   "metadata": {},
   "outputs": [
    {
     "name": "stdout",
     "output_type": "stream",
     "text": [
      "Type: <class 'torch.Tensor'>\n",
      "Shape: torch.Size([2, 3])\n",
      "Values: tensor([[1., 1., 1.],\n",
      "        [1., 1., 1.]], requires_grad=True)\n",
      "===\n",
      "Type: <class 'torch.Tensor'>\n",
      "Shape: torch.Size([2, 3])\n",
      "Values: tensor([[21., 21., 21.],\n",
      "        [21., 21., 21.]], grad_fn=<AddBackward0>)\n",
      "True\n",
      "===\n",
      "Type: <class 'torch.Tensor'>\n",
      "Shape: torch.Size([])\n",
      "Values: 21.0\n",
      "False\n"
     ]
    }
   ],
   "source": [
    "x = torch.ones(2, 3, requires_grad = True)\n",
    "describe(x)\n",
    "print(\"===\")\n",
    "\n",
    "y = (x + 2) * (x + 5) + 3\n",
    "describe(y)\n",
    "print(x.grad is None)\n",
    "\n",
    "print(\"===\")\n",
    "z = y.mean()\n",
    "describe(z)\n",
    "z.backward()\n",
    "print(x.grad is None)"
   ]
  },
  {
   "cell_type": "code",
   "execution_count": 63,
   "metadata": {},
   "outputs": [
    {
     "name": "stdout",
     "output_type": "stream",
     "text": [
      "False\n",
      "cpu\n",
      "Type: <class 'torch.Tensor'>\n",
      "Shape: torch.Size([3, 3])\n",
      "Values: tensor([[0.4510, 0.0799, 0.4953],\n",
      "        [0.3005, 0.5245, 0.6862],\n",
      "        [0.2400, 0.6355, 0.0926]])\n"
     ]
    }
   ],
   "source": [
    "print(torch.cuda.is_available())\n",
    "device = torch.device(\"cuda\" if torch.cuda.is_available() else \"cpu\")\n",
    "print(device)\n",
    "\n",
    "x = torch.rand(3, 3).to(device)\n",
    "describe(x)"
   ]
  },
  {
   "cell_type": "code",
   "execution_count": null,
   "metadata": {},
   "outputs": [],
   "source": []
  }
 ],
 "metadata": {
  "kernelspec": {
   "display_name": "Python 3",
   "language": "python",
   "name": "python3"
  },
  "language_info": {
   "codemirror_mode": {
    "name": "ipython",
    "version": 3
   },
   "file_extension": ".py",
   "mimetype": "text/x-python",
   "name": "python",
   "nbconvert_exporter": "python",
   "pygments_lexer": "ipython3",
   "version": "3.10.9 (main, Dec 15 2022, 10:44:50) [Clang 14.0.0 (clang-1400.0.29.202)]"
  },
  "orig_nbformat": 4,
  "vscode": {
   "interpreter": {
    "hash": "b0fa6594d8f4cbf19f97940f81e996739fb7646882a419484c72d19e05852a7e"
   }
  }
 },
 "nbformat": 4,
 "nbformat_minor": 2
}
