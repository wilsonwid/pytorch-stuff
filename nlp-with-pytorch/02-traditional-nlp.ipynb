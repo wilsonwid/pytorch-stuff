{
 "cells": [
  {
   "cell_type": "code",
   "execution_count": 17,
   "metadata": {},
   "outputs": [
    {
     "name": "stdout",
     "output_type": "stream",
     "text": [
      "['hello', ',', 'world', '!', 'this', 'is', 'me', 'doing', 'something', 'in', 'python', '!']\n"
     ]
    }
   ],
   "source": [
    "import spacy\n",
    "nlp = spacy.load(\"en_core_web_sm\")\n",
    "text = \"Hello, World! This is me doing something in Python!\"\n",
    "print([str(token) for token in nlp(text.lower())])"
   ]
  },
  {
   "cell_type": "code",
   "execution_count": 18,
   "metadata": {},
   "outputs": [
    {
     "name": "stdout",
     "output_type": "stream",
     "text": [
      "['Snow', 'White', 'and', 'the', 'Seven', 'Degrees', '#MakeAMovieCold', '@midnight', ':', '\\xad', ')']\n"
     ]
    }
   ],
   "source": [
    "from nltk.tokenize import TweetTokenizer\n",
    "tweet = \"Snow White and the Seven Degrees #MakeAMovieCold@midnight:­)\"\n",
    "tokenizer = TweetTokenizer()\n",
    "print(tokenizer.tokenize(tweet))"
   ]
  },
  {
   "cell_type": "code",
   "execution_count": 19,
   "metadata": {},
   "outputs": [
    {
     "name": "stdout",
     "output_type": "stream",
     "text": [
      "Hello --> hello\n",
      ", --> ,\n",
      "World --> World\n",
      "! --> !\n",
      "This --> this\n",
      "is --> be\n",
      "me --> I\n",
      "doing --> do\n",
      "something --> something\n",
      "in --> in\n",
      "Python --> Python\n",
      "! --> !\n"
     ]
    }
   ],
   "source": [
    "doc = nlp(text)\n",
    "for token in doc:\n",
    "  print(f\"{token} --> {token.lemma_}\")"
   ]
  },
  {
   "cell_type": "code",
   "execution_count": 20,
   "metadata": {},
   "outputs": [
    {
     "name": "stdout",
     "output_type": "stream",
     "text": [
      "Hello: INTJ\n",
      ",: PUNCT\n",
      "World: PROPN\n",
      "!: PUNCT\n",
      "This: PRON\n",
      "is: AUX\n",
      "me: PRON\n",
      "doing: VERB\n",
      "something: PRON\n",
      "in: ADP\n",
      "Python: PROPN\n",
      "!: PUNCT\n"
     ]
    }
   ],
   "source": [
    "for token in doc:\n",
    "  print(f\"{token}: {token.pos_}\")"
   ]
  },
  {
   "cell_type": "code",
   "execution_count": 22,
   "metadata": {},
   "outputs": [
    {
     "name": "stdout",
     "output_type": "stream",
     "text": [
      "This, NP\n",
      "me, NP\n",
      "something, NP\n",
      "Python, NP\n"
     ]
    }
   ],
   "source": [
    "for chunk in doc.noun_chunks:\n",
    "  print(f\"{chunk}, {chunk.label_}\")"
   ]
  }
 ],
 "metadata": {
  "kernelspec": {
   "display_name": "Python 3",
   "language": "python",
   "name": "python3"
  },
  "language_info": {
   "codemirror_mode": {
    "name": "ipython",
    "version": 3
   },
   "file_extension": ".py",
   "mimetype": "text/x-python",
   "name": "python",
   "nbconvert_exporter": "python",
   "pygments_lexer": "ipython3",
   "version": "3.10.9"
  },
  "orig_nbformat": 4,
  "vscode": {
   "interpreter": {
    "hash": "b0fa6594d8f4cbf19f97940f81e996739fb7646882a419484c72d19e05852a7e"
   }
  }
 },
 "nbformat": 4,
 "nbformat_minor": 2
}
